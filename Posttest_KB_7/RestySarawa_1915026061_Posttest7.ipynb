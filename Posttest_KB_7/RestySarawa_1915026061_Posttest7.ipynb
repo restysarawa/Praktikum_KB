{
 "cells": [
  {
   "cell_type": "markdown",
   "id": "e3514977",
   "metadata": {},
   "source": [
    "POSTTEST 7"
   ]
  },
  {
   "cell_type": "markdown",
   "id": "b2f679c5",
   "metadata": {},
   "source": [
    "import library"
   ]
  },
  {
   "cell_type": "code",
   "execution_count": 4,
   "id": "2040018e",
   "metadata": {},
   "outputs": [],
   "source": [
    "import tensorflow as tf"
   ]
  },
  {
   "cell_type": "markdown",
   "id": "f54e9b9e",
   "metadata": {},
   "source": [
    "Buatlah sebuah tensor dengan shape(5,5) dengan nilai random yang disimpan dalam variable random_tensor"
   ]
  },
  {
   "cell_type": "code",
   "execution_count": 5,
   "id": "16c7f937",
   "metadata": {},
   "outputs": [
    {
     "data": {
      "text/plain": [
       "<tf.Tensor: shape=(5, 5), dtype=float32, numpy=\n",
       "array([[-0.09706679, -0.4379941 ,  0.70537066,  2.0242422 ,  0.6242356 ],\n",
       "       [ 1.3449932 ,  0.29115355,  1.2268361 ,  0.11070856,  2.6446483 ],\n",
       "       [ 0.34495565, -0.49888837,  0.20307769,  0.28856617,  1.2878911 ],\n",
       "       [-0.52085894,  0.7361505 ,  1.0627344 , -2.5137057 , -1.0715206 ],\n",
       "       [ 0.66625714,  0.50972325, -1.6279899 , -0.7276927 , -2.4246235 ]],\n",
       "      dtype=float32)>"
      ]
     },
     "execution_count": 5,
     "metadata": {},
     "output_type": "execute_result"
    }
   ],
   "source": [
    "random_tensor = tf.random.normal([5,5])\n",
    "random_tensor"
   ]
  },
  {
   "cell_type": "markdown",
   "id": "90e113ec",
   "metadata": {},
   "source": [
    "Buatlah sebuah tensor dengan shape(5,5) dari sebuah list dengan nilai bilangan prima dalam variable prime_tensor dan tampilkan isinya"
   ]
  },
  {
   "cell_type": "code",
   "execution_count": 6,
   "id": "9e3fcbb0",
   "metadata": {},
   "outputs": [
    {
     "data": {
      "text/plain": [
       "<tf.Tensor: shape=(5, 5), dtype=float32, numpy=\n",
       "array([[ 2.,  3.,  5.,  7., 11.],\n",
       "       [13., 17., 19., 23., 29.],\n",
       "       [31., 37., 41., 43., 47.],\n",
       "       [53., 59., 61., 67., 71.],\n",
       "       [73., 79., 83., 89., 97.]], dtype=float32)>"
      ]
     },
     "execution_count": 6,
     "metadata": {},
     "output_type": "execute_result"
    }
   ],
   "source": [
    "bilanganPrima = [[2, 3, 5, 7, 11],\n",
    "              [13, 17, 19, 23, 29],\n",
    "              [31, 37, 41, 43, 47],\n",
    "              [53, 59, 61, 67, 71],\n",
    "              [73, 79, 83, 89, 97]]\n",
    "prime_tensor = tf.convert_to_tensor(bilanganPrima, dtype=tf.float32)\n",
    "prime_tensor"
   ]
  },
  {
   "cell_type": "markdown",
   "id": "0758a0d6",
   "metadata": {},
   "source": [
    "Tampilkan dimensi dari kedua variable tersebut"
   ]
  },
  {
   "cell_type": "code",
   "execution_count": 10,
   "id": "bb63411a",
   "metadata": {},
   "outputs": [
    {
     "name": "stdout",
     "output_type": "stream",
     "text": [
      "Dimensi variabel random_tensor: (5, 5)\n",
      "Dimensi variabel prime_tensor: (5, 5)\n"
     ]
    }
   ],
   "source": [
    "print(f'Dimensi variabel random_tensor: {random_tensor.shape}',\n",
    "     f'Dimensi variabel prime_tensor: {prime_tensor.get_shape()}',\n",
    "     sep='\\n')"
   ]
  },
  {
   "cell_type": "markdown",
   "id": "4ec12c75",
   "metadata": {},
   "source": [
    "Tampilkan hasil dari perhitungan aritmetika 2 variable tersebut (Gunakan minimal 5 operator)"
   ]
  },
  {
   "cell_type": "code",
   "execution_count": 12,
   "id": "25e847b6",
   "metadata": {},
   "outputs": [
    {
     "data": {
      "text/plain": [
       "<tf.Tensor: shape=(5, 5), dtype=float32, numpy=\n",
       "array([[-1.9413358e-01, -1.3139822e+00,  3.5268533e+00,  1.4169695e+01,\n",
       "         6.8665915e+00],\n",
       "       [ 1.7484913e+01,  4.9496102e+00,  2.3309885e+01,  2.5462971e+00,\n",
       "         7.6694801e+01],\n",
       "       [ 1.0693625e+01, -1.8458870e+01,  8.3261852e+00,  1.2408345e+01,\n",
       "         6.0530884e+01],\n",
       "       [-2.7605524e+01,  4.3432880e+01,  6.4826797e+01, -1.6841829e+02,\n",
       "        -7.6077957e+01],\n",
       "       [ 4.8636772e+01,  4.0268135e+01, -1.3512315e+02, -6.4764656e+01,\n",
       "        -2.3518848e+02]], dtype=float32)>"
      ]
     },
     "execution_count": 12,
     "metadata": {},
     "output_type": "execute_result"
    }
   ],
   "source": [
    "# Perkalian\n",
    "tf.multiply(random_tensor, prime_tensor)"
   ]
  },
  {
   "cell_type": "code",
   "execution_count": 13,
   "id": "f883599e",
   "metadata": {},
   "outputs": [
    {
     "data": {
      "text/plain": [
       "<tf.Tensor: shape=(5, 5), dtype=float32, numpy=\n",
       "array([[-0.04853339, -0.14599803,  0.14107414,  0.28917745,  0.05674869],\n",
       "       [ 0.10346102,  0.01712668,  0.06457032,  0.00481342,  0.09119477],\n",
       "       [ 0.0111276 , -0.01348347,  0.00495311,  0.00671084,  0.02740194],\n",
       "       [-0.00982753,  0.01247713,  0.01742188, -0.03751799, -0.01509184],\n",
       "       [ 0.00912681,  0.00645219, -0.01961434, -0.00817632, -0.02499612]],\n",
       "      dtype=float32)>"
      ]
     },
     "execution_count": 13,
     "metadata": {},
     "output_type": "execute_result"
    }
   ],
   "source": [
    "# Pembagian\n",
    "tf.divide(random_tensor, prime_tensor)"
   ]
  },
  {
   "cell_type": "code",
   "execution_count": 14,
   "id": "36cbc0c3",
   "metadata": {},
   "outputs": [
    {
     "data": {
      "text/plain": [
       "<tf.Tensor: shape=(5, 5), dtype=float32, numpy=\n",
       "array([[ 1.9029332,  2.562006 ,  5.705371 ,  9.024242 , 11.624235 ],\n",
       "       [14.344994 , 17.291153 , 20.226835 , 23.110708 , 31.644648 ],\n",
       "       [31.344955 , 36.50111  , 41.20308  , 43.288567 , 48.28789  ],\n",
       "       [52.47914  , 59.73615  , 62.062733 , 64.4863   , 69.92848  ],\n",
       "       [73.66626  , 79.50972  , 81.37201  , 88.27231  , 94.57538  ]],\n",
       "      dtype=float32)>"
      ]
     },
     "execution_count": 14,
     "metadata": {},
     "output_type": "execute_result"
    }
   ],
   "source": [
    "# Pertambahan\n",
    "tf.add(random_tensor, prime_tensor)"
   ]
  },
  {
   "cell_type": "code",
   "execution_count": 15,
   "id": "36721cf2",
   "metadata": {},
   "outputs": [
    {
     "data": {
      "text/plain": [
       "<tf.Tensor: shape=(5, 5), dtype=float32, numpy=\n",
       "array([[ -2.0970669,  -3.437994 ,  -4.294629 ,  -4.9757576, -10.375765 ],\n",
       "       [-11.655006 , -16.708847 , -17.773165 , -22.889292 , -26.355352 ],\n",
       "       [-30.655045 , -37.49889  , -40.79692  , -42.711433 , -45.71211  ],\n",
       "       [-53.52086  , -58.26385  , -59.937267 , -69.5137   , -72.07152  ],\n",
       "       [-72.33374  , -78.49028  , -84.62799  , -89.72769  , -99.42462  ]],\n",
       "      dtype=float32)>"
      ]
     },
     "execution_count": 15,
     "metadata": {},
     "output_type": "execute_result"
    }
   ],
   "source": [
    "# Pengurangan\n",
    "tf.subtract(random_tensor, prime_tensor)"
   ]
  },
  {
   "cell_type": "code",
   "execution_count": 17,
   "id": "6e967d3a",
   "metadata": {},
   "outputs": [
    {
     "data": {
      "text/plain": [
       "<tf.Tensor: shape=(5, 5), dtype=float32, numpy=\n",
       "array([[0.00942196, 0.19183883, 0.49754778, 4.097556  , 0.38967004],\n",
       "       [1.8090068 , 0.08477039, 1.5051268 , 0.01225639, 6.9941645 ],\n",
       "       [0.1189944 , 0.24888961, 0.04124055, 0.08327044, 1.6586636 ],\n",
       "       [0.27129403, 0.54191756, 1.1294043 , 6.3187165 , 1.1481563 ],\n",
       "       [0.4438986 , 0.25981778, 2.650351  , 0.5295367 , 5.878799  ]],\n",
       "      dtype=float32)>"
      ]
     },
     "execution_count": 17,
     "metadata": {},
     "output_type": "execute_result"
    }
   ],
   "source": [
    "# Perpangkatan\n",
    "tf.square(random_tensor, prime_tensor)"
   ]
  },
  {
   "cell_type": "markdown",
   "id": "722eec50",
   "metadata": {},
   "source": [
    "Tampilkan nilai maksimal dan minimal dari variable random_tensor"
   ]
  },
  {
   "cell_type": "code",
   "execution_count": 18,
   "id": "07b8e70f",
   "metadata": {},
   "outputs": [
    {
     "name": "stdout",
     "output_type": "stream",
     "text": [
      "Nilai maksimum dari Tensor random_tensor berdasarkan kolom:\n",
      "Nilai Kolom-1 Baris-1: -0.437994\n",
      "Nilai Kolom-2 Baris-3: 0.110709\n",
      "Nilai Kolom-3 Baris-1: -0.498888\n",
      "Nilai Kolom-4 Baris-0: -0.520859\n",
      "Nilai Kolom-5 Baris-1: 0.509723\n",
      "\n",
      "Nilai maksimum dari Tensor random_tensor berdasarkan baris:\n",
      "Nilai Baris-1 Kolom-3: 2.024242\n",
      "Nilai Baris-2 Kolom-4: 2.644648\n",
      "Nilai Baris-3 Kolom-4: 1.287891\n",
      "Nilai Baris-4 Kolom-2: 1.062734\n",
      "Nilai Baris-5 Kolom-0: 0.666257\n",
      "\n",
      "Nilai minimum dari Tensor random_tensor berdasarkan kolom:\n",
      "Nilai Kolom-1 Baris-3: 2.024242\n",
      "Nilai Kolom-2 Baris-2: 1.226836\n",
      "Nilai Kolom-3 Baris-4: 1.287891\n",
      "Nilai Kolom-4 Baris-3: -2.513706\n",
      "Nilai Kolom-5 Baris-4: -2.424623\n",
      "\n",
      "Nilai minimum dari Tensor random_tensor berdasarkan baris:\n",
      "Nilai Baris-1 Kolom-1: -0.437994\n",
      "Nilai Baris-2 Kolom-3: 0.110709\n",
      "Nilai Baris-3 Kolom-1: -0.498888\n",
      "Nilai Baris-4 Kolom-3: -2.513706\n",
      "Nilai Baris-5 Kolom-4: -2.424623\n"
     ]
    }
   ],
   "source": [
    "print('Nilai maksimum dari Tensor random_tensor berdasarkan kolom:')\n",
    "for x, y in enumerate(tf.argmax(random_tensor, axis=0)):\n",
    "    print('Nilai Kolom-%d Baris-%d: %f' % (x + 1, y, random_tensor[x, y].numpy()))\n",
    "\n",
    "print('\\nNilai maksimum dari Tensor random_tensor berdasarkan baris:')\n",
    "for x, y in enumerate(tf.argmax(random_tensor, axis=1)):\n",
    "    print('Nilai Baris-%d Kolom-%d: %f' % (x + 1, y, random_tensor[x, y].numpy()))\n",
    "    \n",
    "print('\\nNilai minimum dari Tensor random_tensor berdasarkan kolom:')\n",
    "for x, y in enumerate(tf.argmin(random_tensor, axis=0)):\n",
    "    print('Nilai Kolom-%d Baris-%d: %f' % (x + 1, y, random_tensor[x, y].numpy()))\n",
    "    \n",
    "print('\\nNilai minimum dari Tensor random_tensor berdasarkan baris:')\n",
    "for x, y in enumerate(tf.argmin(random_tensor, axis=1)):\n",
    "    print('Nilai Baris-%d Kolom-%d: %f' % (x + 1, y, random_tensor[x, y].numpy()))"
   ]
  },
  {
   "cell_type": "markdown",
   "id": "0648a3b6",
   "metadata": {},
   "source": [
    "Tampilkan hasil dari penggabungan variable random_tensor dengan prime_tensor (concatenation)"
   ]
  },
  {
   "cell_type": "code",
   "execution_count": 19,
   "id": "3a3eda8c",
   "metadata": {},
   "outputs": [
    {
     "data": {
      "text/plain": [
       "<tf.Tensor: shape=(10, 5), dtype=float32, numpy=\n",
       "array([[-0.09706679, -0.4379941 ,  0.70537066,  2.0242422 ,  0.6242356 ],\n",
       "       [ 1.3449932 ,  0.29115355,  1.2268361 ,  0.11070856,  2.6446483 ],\n",
       "       [ 0.34495565, -0.49888837,  0.20307769,  0.28856617,  1.2878911 ],\n",
       "       [-0.52085894,  0.7361505 ,  1.0627344 , -2.5137057 , -1.0715206 ],\n",
       "       [ 0.66625714,  0.50972325, -1.6279899 , -0.7276927 , -2.4246235 ],\n",
       "       [ 2.        ,  3.        ,  5.        ,  7.        , 11.        ],\n",
       "       [13.        , 17.        , 19.        , 23.        , 29.        ],\n",
       "       [31.        , 37.        , 41.        , 43.        , 47.        ],\n",
       "       [53.        , 59.        , 61.        , 67.        , 71.        ],\n",
       "       [73.        , 79.        , 83.        , 89.        , 97.        ]],\n",
       "      dtype=float32)>"
      ]
     },
     "execution_count": 19,
     "metadata": {},
     "output_type": "execute_result"
    }
   ],
   "source": [
    "tf.concat([random_tensor, prime_tensor], axis=0)"
   ]
  },
  {
   "cell_type": "markdown",
   "id": "5879dbd8",
   "metadata": {},
   "source": [
    "Tampilkan hasil sorting dari kedua variable di atas. (descending)"
   ]
  },
  {
   "cell_type": "code",
   "execution_count": 20,
   "id": "4b443ef7",
   "metadata": {
    "scrolled": true
   },
   "outputs": [
    {
     "data": {
      "text/plain": [
       "<tf.Tensor: shape=(5, 5), dtype=float32, numpy=\n",
       "array([[ 2.0242422 ,  0.70537066,  0.6242356 , -0.09706679, -0.4379941 ],\n",
       "       [ 2.6446483 ,  1.3449932 ,  1.2268361 ,  0.29115355,  0.11070856],\n",
       "       [ 1.2878911 ,  0.34495565,  0.28856617,  0.20307769, -0.49888837],\n",
       "       [ 1.0627344 ,  0.7361505 , -0.52085894, -1.0715206 , -2.5137057 ],\n",
       "       [ 0.66625714,  0.50972325, -0.7276927 , -1.6279899 , -2.4246235 ]],\n",
       "      dtype=float32)>"
      ]
     },
     "execution_count": 20,
     "metadata": {},
     "output_type": "execute_result"
    }
   ],
   "source": [
    "# random_tensor\n",
    "tf.sort(random_tensor.numpy(), direction='DESCENDING')"
   ]
  },
  {
   "cell_type": "code",
   "execution_count": 21,
   "id": "ee6ef61d",
   "metadata": {},
   "outputs": [
    {
     "data": {
      "text/plain": [
       "<tf.Tensor: shape=(5, 5), dtype=float32, numpy=\n",
       "array([[11.,  7.,  5.,  3.,  2.],\n",
       "       [29., 23., 19., 17., 13.],\n",
       "       [47., 43., 41., 37., 31.],\n",
       "       [71., 67., 61., 59., 53.],\n",
       "       [97., 89., 83., 79., 73.]], dtype=float32)>"
      ]
     },
     "execution_count": 21,
     "metadata": {},
     "output_type": "execute_result"
    }
   ],
   "source": [
    "# prime_tensor\n",
    "tf.sort(prime_tensor.numpy(), direction='DESCENDING')"
   ]
  },
  {
   "cell_type": "code",
   "execution_count": null,
   "id": "b78f568e",
   "metadata": {},
   "outputs": [],
   "source": []
  }
 ],
 "metadata": {
  "kernelspec": {
   "display_name": "Python 3 (ipykernel)",
   "language": "python",
   "name": "python3"
  },
  "language_info": {
   "codemirror_mode": {
    "name": "ipython",
    "version": 3
   },
   "file_extension": ".py",
   "mimetype": "text/x-python",
   "name": "python",
   "nbconvert_exporter": "python",
   "pygments_lexer": "ipython3",
   "version": "3.10.7"
  }
 },
 "nbformat": 4,
 "nbformat_minor": 5
}
